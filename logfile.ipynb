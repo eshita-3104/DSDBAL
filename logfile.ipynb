{
  "nbformat": 4,
  "nbformat_minor": 0,
  "metadata": {
    "colab": {
      "provenance": [],
      "include_colab_link": true
    },
    "kernelspec": {
      "name": "python3",
      "display_name": "Python 3"
    },
    "language_info": {
      "name": "python"
    }
  },
  "cells": [
    {
      "cell_type": "markdown",
      "metadata": {
        "id": "view-in-github",
        "colab_type": "text"
      },
      "source": [
        "<a href=\"https://colab.research.google.com/github/eshita-3104/DSDBAL/blob/main/logfile.ipynb\" target=\"_parent\"><img src=\"https://colab.research.google.com/assets/colab-badge.svg\" alt=\"Open In Colab\"/></a>"
      ]
    },
    {
      "cell_type": "code",
      "execution_count": 1,
      "metadata": {
        "colab": {
          "base_uri": "https://localhost:8080/"
        },
        "id": "nyzaNnFovCvP",
        "outputId": "f377b26d-b436-4271-9c43-48e858ea5adc"
      },
      "outputs": [
        {
          "output_type": "stream",
          "name": "stdout",
          "text": [
            "Collecting pyspark\n",
            "  Downloading pyspark-3.5.1.tar.gz (317.0 MB)\n",
            "\u001b[2K     \u001b[90m━━━━━━━━━━━━━━━━━━━━━━━━━━━━━━━━━━━━━━━━\u001b[0m \u001b[32m317.0/317.0 MB\u001b[0m \u001b[31m4.0 MB/s\u001b[0m eta \u001b[36m0:00:00\u001b[0m\n",
            "\u001b[?25h  Preparing metadata (setup.py) ... \u001b[?25l\u001b[?25hdone\n",
            "Requirement already satisfied: py4j==0.10.9.7 in /usr/local/lib/python3.10/dist-packages (from pyspark) (0.10.9.7)\n",
            "Building wheels for collected packages: pyspark\n",
            "  Building wheel for pyspark (setup.py) ... \u001b[?25l\u001b[?25hdone\n",
            "  Created wheel for pyspark: filename=pyspark-3.5.1-py2.py3-none-any.whl size=317488491 sha256=ff078616dfe139d9c642f5b9491c6369467e444c0d0e8ea68bb155e6a71941b1\n",
            "  Stored in directory: /root/.cache/pip/wheels/80/1d/60/2c256ed38dddce2fdd93be545214a63e02fbd8d74fb0b7f3a6\n",
            "Successfully built pyspark\n",
            "Installing collected packages: pyspark\n",
            "Successfully installed pyspark-3.5.1\n",
            "Apache Spark version:  3.5.1\n"
          ]
        }
      ],
      "source": [
        "#install pyspark\n",
        "!pip install pyspark\n",
        "#import sparksession\n",
        "from pyspark.sql import SparkSession\n",
        "#create sparksession object and provide appName\n",
        "spark=SparkSession.builder.appName(\"local[*]\").getOrCreate()\n",
        "#print spark version\n",
        "print(\"Apache Spark version: \", spark.version)\n",
        "from pyspark.conf import SparkConf"
      ]
    },
    {
      "cell_type": "code",
      "source": [
        " data = [(\"James\",\"\",\"Smith\",30,\"M\",60000),\n",
        "        (\"Michael\",\"Rose\",\"\",50,\"M\",70000),\n",
        "         (\"James\",\"\",\"Smith\",30,\"M\",60000),\n",
        "        (\"Robert\",\"\",\"Williams\",42,\"\",400000),\n",
        "         (\"James\",\"\",\"Smith\",30,\"M\",60000),\n",
        "          (\"Michael\",\"Rose\",\"\",50,\"M\",70000),\n",
        "        (\"Maria\",\"Anne\",\"Jones\",38,\"F\",500000),\n",
        "        (\"Jen\",\"Mary\",\"Brown\",45,\"F\",0)]\n",
        "\n",
        "columns = [\"first_name\",\"middle_name\",\"last_name\",\"Age\",\"gender\",\"salary\"]\n",
        "pysparkDF = spark.createDataFrame(data = data, schema = columns)\n",
        "pysparkDF.printSchema()\n",
        "pysparkDF.show(truncate=False)\n"
      ],
      "metadata": {
        "colab": {
          "base_uri": "https://localhost:8080/"
        },
        "id": "M3BB9q-jw3PG",
        "outputId": "7acde365-032d-4257-8a28-55ea6bc82df6"
      },
      "execution_count": 2,
      "outputs": [
        {
          "output_type": "stream",
          "name": "stdout",
          "text": [
            "root\n",
            " |-- first_name: string (nullable = true)\n",
            " |-- middle_name: string (nullable = true)\n",
            " |-- last_name: string (nullable = true)\n",
            " |-- Age: long (nullable = true)\n",
            " |-- gender: string (nullable = true)\n",
            " |-- salary: long (nullable = true)\n",
            "\n",
            "+----------+-----------+---------+---+------+------+\n",
            "|first_name|middle_name|last_name|Age|gender|salary|\n",
            "+----------+-----------+---------+---+------+------+\n",
            "|James     |           |Smith    |30 |M     |60000 |\n",
            "|Michael   |Rose       |         |50 |M     |70000 |\n",
            "|James     |           |Smith    |30 |M     |60000 |\n",
            "|Robert    |           |Williams |42 |      |400000|\n",
            "|James     |           |Smith    |30 |M     |60000 |\n",
            "|Michael   |Rose       |         |50 |M     |70000 |\n",
            "|Maria     |Anne       |Jones    |38 |F     |500000|\n",
            "|Jen       |Mary       |Brown    |45 |F     |0     |\n",
            "+----------+-----------+---------+---+------+------+\n",
            "\n"
          ]
        }
      ]
    },
    {
      "cell_type": "code",
      "source": [
        "rdd=spark.sparkContext.parallelize(data)"
      ],
      "metadata": {
        "id": "lcMOcgIkxvS1"
      },
      "execution_count": 3,
      "outputs": []
    },
    {
      "cell_type": "code",
      "source": [
        "rdd1=rdd.map(lambda word:(word,1))"
      ],
      "metadata": {
        "id": "fYU2VBA_yM5G"
      },
      "execution_count": 4,
      "outputs": []
    },
    {
      "cell_type": "code",
      "source": [
        "rdd2=rdd1.reduceByKey(lambda a,b: a+b)"
      ],
      "metadata": {
        "id": "QqKMjOBxyQJN"
      },
      "execution_count": 5,
      "outputs": []
    },
    {
      "cell_type": "code",
      "source": [
        "rdd2"
      ],
      "metadata": {
        "colab": {
          "base_uri": "https://localhost:8080/"
        },
        "id": "1eaiUx06ySiN",
        "outputId": "111b0a42-ff02-4d4d-d181-72e8345bd1ab"
      },
      "execution_count": 6,
      "outputs": [
        {
          "output_type": "execute_result",
          "data": {
            "text/plain": [
              "PythonRDD[12] at RDD at PythonRDD.scala:53"
            ]
          },
          "metadata": {},
          "execution_count": 6
        }
      ]
    },
    {
      "cell_type": "code",
      "source": [
        " output=rdd2.collect()"
      ],
      "metadata": {
        "id": "HwnsSV9hyW3N"
      },
      "execution_count": 7,
      "outputs": []
    },
    {
      "cell_type": "code",
      "source": [
        "output"
      ],
      "metadata": {
        "colab": {
          "base_uri": "https://localhost:8080/"
        },
        "id": "coEFXeaByZZV",
        "outputId": "3f6604c6-2ded-4b97-9aeb-fed603a30139"
      },
      "execution_count": 8,
      "outputs": [
        {
          "output_type": "execute_result",
          "data": {
            "text/plain": [
              "[(('James', '', 'Smith', 30, 'M', 60000), 3),\n",
              " (('Maria', 'Anne', 'Jones', 38, 'F', 500000), 1),\n",
              " (('Jen', 'Mary', 'Brown', 45, 'F', 0), 1),\n",
              " (('Michael', 'Rose', '', 50, 'M', 70000), 2),\n",
              " (('Robert', '', 'Williams', 42, '', 400000), 1)]"
            ]
          },
          "metadata": {},
          "execution_count": 8
        }
      ]
    },
    {
      "cell_type": "code",
      "source": [
        "from pyspark.sql.functions import mean, col, max\n",
        "#Example 1\n",
        "df2=pysparkDF.select(mean(\"age\"),mean(\"salary\")).show()\n",
        "#Example 2\n",
        "pysparkDF.groupBy(\"gender\") \\\n",
        "         .agg(mean(\"age\"),mean(\"salary\"),max(\"salary\")) \\\n",
        "         .show()"
      ],
      "metadata": {
        "colab": {
          "base_uri": "https://localhost:8080/"
        },
        "id": "w_N9edHVxFSd",
        "outputId": "24f8367a-1771-4217-c4a0-f43fc6e799a9"
      },
      "execution_count": 9,
      "outputs": [
        {
          "output_type": "stream",
          "name": "stdout",
          "text": [
            "+--------+-----------+\n",
            "|avg(age)|avg(salary)|\n",
            "+--------+-----------+\n",
            "|  39.375|   152500.0|\n",
            "+--------+-----------+\n",
            "\n",
            "+------+--------+-----------+-----------+\n",
            "|gender|avg(age)|avg(salary)|max(salary)|\n",
            "+------+--------+-----------+-----------+\n",
            "|     M|    38.0|    64000.0|      70000|\n",
            "|      |    42.0|   400000.0|     400000|\n",
            "|     F|    41.5|   250000.0|     500000|\n",
            "+------+--------+-----------+-----------+\n",
            "\n"
          ]
        }
      ]
    }
  ]
}